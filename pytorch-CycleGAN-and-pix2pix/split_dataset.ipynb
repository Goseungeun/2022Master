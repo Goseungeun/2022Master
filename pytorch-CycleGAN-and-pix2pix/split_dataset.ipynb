{
 "cells": [
  {
   "cell_type": "code",
   "execution_count": 4,
   "metadata": {},
   "outputs": [
    {
     "name": "stderr",
     "output_type": "stream",
     "text": [
      "Copying files: 52542 files [14:40, 59.65 files/s]\n"
     ]
    }
   ],
   "source": [
    "import splitfolders\n",
    "input_folder = \"D:/Dataset/Real+Generate/SPSI\"\n",
    "splitfolders.ratio(input_folder, output = \"D:/Dataset/Real+Generate/Real_dataset\", seed = 42, ratio=(.8, .2, .0), group_prefix = None)"
   ]
  },
  {
   "cell_type": "code",
   "execution_count": 2,
   "metadata": {},
   "outputs": [
    {
     "name": "stderr",
     "output_type": "stream",
     "text": [
      "Copying files: 138054 files [49:46, 46.22 files/s]\n"
     ]
    }
   ],
   "source": [
    "input_folder = \"D:/Dataset/Real+Generate/Real+Realistic\"\n",
    "splitfolders.ratio(input_folder, output = \"D:/Dataset/Real+Generate/Real+Realistic_dataset\", seed = 42, ratio=(.8, .2, .0), group_prefix = None)"
   ]
  },
  {
   "cell_type": "code",
   "execution_count": 3,
   "metadata": {},
   "outputs": [
    {
     "name": "stderr",
     "output_type": "stream",
     "text": [
      "Copying files: 138054 files [52:18, 43.98 files/s]\n"
     ]
    }
   ],
   "source": [
    "input_folder = \"D:/Dataset/Real+Generate/Real+Translucent\"\n",
    "splitfolders.ratio(input_folder, output = \"D:/Dataset/Real+Generate/Real+Translucent_dataset\", seed = 42, ratio=(.8, .2, .0), group_prefix = None)"
   ]
  },
  {
   "cell_type": "code",
   "execution_count": 2,
   "metadata": {},
   "outputs": [],
   "source": [
    "from PIL import Image\n",
    "import os \n",
    "\n",
    "clean_image_path = \"D:/Dataset/test_cleanpanel/test/Image\" \n",
    "clean_mask_path = \"D:/Dataset/test_cleanpanel/test/Mask\"\n",
    "\n",
    "images = os.listdir(clean_image_path)\n",
    "\n",
    "for image in images:\n",
    "    clean = Image.open(os.path.join(clean_image_path,image))\n",
    "    w,h = clean.size\n",
    "    mask = Image.new(clean.mode,(w,h),0)\n",
    "    mask.save(os.path.join(clean_mask_path,image))"
   ]
  },
  {
   "cell_type": "code",
   "execution_count": 39,
   "metadata": {},
   "outputs": [],
   "source": [
    "import cv2\n",
    "from PIL import Image, ImageFilter\n",
    "import os \n",
    "import random\n",
    "import torchvision.transforms as T\n",
    "import matplotlib.pylab as plt"
   ]
  },
  {
   "cell_type": "code",
   "execution_count": 108,
   "metadata": {},
   "outputs": [
    {
     "name": "stdout",
     "output_type": "stream",
     "text": [
      "['panel1.jpg', 'panel10.jpg', 'panel2.jpg', 'panel3.jpg', 'panel4.jpg', 'panel5.jpg', 'panel6.jpg', 'panel7.jpg', 'panel8.jpg', 'panel9.jpg']\n"
     ]
    }
   ],
   "source": [
    "panel1_path = \"D:/Dataset/copy-paste/panel_background/panel1\"\n",
    "panel2_path = \"D:/Dataset/copy-paste/panel_background/panel2\"\n",
    "mask_path = \"D:/Dataset/copy-paste/panel_background/Mask\"\n",
    "\n",
    "save_new_path = \"D:/Dataset/cleanpanel_aug/Image\"\n",
    "save_mask_path = \"D:/Dataset/cleanpanel_aug/Mask\"\n",
    "\n",
    "panels1 = os.listdir(panel1_path)\n",
    "panels2 = os.listdir(panel2_path)\n",
    "print(panels1)\n",
    "s = 1"
   ]
  },
  {
   "cell_type": "code",
   "execution_count": 250,
   "metadata": {},
   "outputs": [],
   "source": [
    "aug_panel1 = T.RandomApply([\n",
    "    T.RandomHorizontalFlip(),\n",
    "    T.RandomVerticalFlip(),\n",
    "    T.RandomResizedCrop((131,127),scale = (0.3,1.0)),\n",
    "    T.ColorJitter(brightness = 0.3, saturation = 0.3, hue = 0.1)\n",
    "], p = 1.0)"
   ]
  },
  {
   "cell_type": "code",
   "execution_count": 262,
   "metadata": {},
   "outputs": [],
   "source": [
    "for panel in panels1:\n",
    "    r_pan_img = Image.open(os.path.join(panel1_path,panel))\n",
    "    mask_img = Image.open(os.path.join(mask_path,panel))\n",
    "    pan_id,ext = os.path.splitext(panel)\n",
    "\n",
    "    r_pan_img.save(os.path.join(save_new_path,panel))\n",
    "    mask_img.save(os.path.join(save_mask_path,panel))\n",
    "\n",
    "    for i in range(50):\n",
    "        aug_panel = aug_panel1(r_pan_img)\n",
    "        aug_panel.save(os.path.join(save_new_path,pan_id+'_'+str(i)+'.jpg'))\n",
    "        mask_img.save(os.path.join(save_mask_path,pan_id+'_'+str(i)+'.jpg'))\n"
   ]
  },
  {
   "cell_type": "code",
   "execution_count": 260,
   "metadata": {},
   "outputs": [],
   "source": [
    "aug_panel2 = T.RandomApply([\n",
    "    T.RandomHorizontalFlip(),\n",
    "    T.RandomVerticalFlip(),\n",
    "    T.RandomResizedCrop((131,127),scale = (0.3,1.0)),\n",
    "    T.ColorJitter(brightness = 0.3, saturation = 0.3, hue = 0.1)\n",
    "], p = 1.0)"
   ]
  },
  {
   "cell_type": "code",
   "execution_count": 263,
   "metadata": {},
   "outputs": [],
   "source": [
    "for panel in panels2:\n",
    "    r_pan_img = Image.open(os.path.join(panel2_path,panel)).resize((127,131))\n",
    "    mask_img = Image.open(os.path.join(mask_path,panel)).resize((127,131))\n",
    "    pan_id,ext = os.path.splitext(panel)\n",
    "    \n",
    "    r_pan_img.save(os.path.join(save_new_path,panel))\n",
    "    mask_img.save(os.path.join(save_mask_path,panel))\n",
    "\n",
    "    for i in range(16):\n",
    "        aug_panel = aug_panel1(r_pan_img)\n",
    "        aug_panel.save(os.path.join(save_new_path,pan_id+'_'+str(i)+'.jpg'))\n",
    "        mask_img.save(os.path.join(save_mask_path,pan_id+'_'+str(i)+'.jpg'))"
   ]
  },
  {
   "cell_type": "code",
   "execution_count": null,
   "metadata": {},
   "outputs": [],
   "source": [
    "import matplotlib.pylab as plt\n",
    "import \n",
    "\n",
    "plt.imshow"
   ]
  }
 ],
 "metadata": {
  "kernelspec": {
   "display_name": "env_cycleGAN",
   "language": "python",
   "name": "python3"
  },
  "language_info": {
   "codemirror_mode": {
    "name": "ipython",
    "version": 3
   },
   "file_extension": ".py",
   "mimetype": "text/x-python",
   "name": "python",
   "nbconvert_exporter": "python",
   "pygments_lexer": "ipython3",
   "version": "3.10.6"
  },
  "orig_nbformat": 4
 },
 "nbformat": 4,
 "nbformat_minor": 2
}
