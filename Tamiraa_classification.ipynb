{
 "cells": [
  {
   "cell_type": "code",
   "execution_count": 1,
   "id": "9540812a-793e-4c43-839b-859ffb695bd3",
   "metadata": {
    "tags": []
   },
   "outputs": [],
   "source": [
    "import os\n",
    "import glob\n",
    "import random\n",
    "\n",
    "import tensorflow as tf\n",
    "from tensorflow.keras.preprocessing.image import ImageDataGenerator\n",
    "from tensorflow.keras.optimizers import RMSprop\n",
    "\n",
    "\n",
    "from sklearn.metrics import classification_report\n",
    "from sklearn.metrics import confusion_matrix\n",
    "\n",
    "import matplotlib.pyplot as plt\n",
    "import matplotlib as mpl\n",
    "import seaborn as sns\n",
    "import numpy as np"
   ]
  },
  {
   "cell_type": "code",
   "execution_count": 2,
   "id": "af602977-c47b-4d20-b5bd-041b96617f3e",
   "metadata": {},
   "outputs": [],
   "source": [
    "random.seed(1)\n",
    "tf.random.set_seed(1)\n",
    "np.random.seed(1)\n",
    "plt.rcParams.update({'font.size': 18})"
   ]
  },
  {
   "cell_type": "code",
   "execution_count": 3,
   "id": "17d4d052-d544-4382-881c-0f86af562f19",
   "metadata": {},
   "outputs": [
    {
     "data": {
      "text/plain": [
       "('./data', './data\\\\train', './data\\\\validation', './data\\\\test')"
      ]
     },
     "execution_count": 3,
     "metadata": {},
     "output_type": "execute_result"
    }
   ],
   "source": [
    "base_dir = './data'\n",
    "train_dir = os.path.join(base_dir, 'train')\n",
    "validation_dir = os.path.join(base_dir, 'validation')\n",
    "test_dir = os.path.join(base_dir, 'test')\n",
    "base_dir, train_dir, validation_dir, test_dir"
   ]
  },
  {
   "cell_type": "code",
   "execution_count": 4,
   "id": "f6621252-fba3-44d0-a9e7-02b948386e05",
   "metadata": {},
   "outputs": [
    {
     "data": {
      "text/plain": [
       "('./data', './data/train', './data/validation', './data/test')"
      ]
     },
     "execution_count": 4,
     "metadata": {},
     "output_type": "execute_result"
    }
   ],
   "source": [
    "('./data',\n",
    " './data/train',\n",
    " './data/validation',\n",
    " './data/test')"
   ]
  },
  {
   "cell_type": "code",
   "execution_count": 5,
   "id": "0cbef9c7-c19d-4ee2-8a38-de00ee7d5d5f",
   "metadata": {},
   "outputs": [
    {
     "name": "stdout",
     "output_type": "stream",
     "text": [
      "Found 32578 images belonging to 6 classes.\n",
      "Found 8473 images belonging to 6 classes.\n"
     ]
    }
   ],
   "source": [
    "train_generator = ImageDataGenerator(rescale=1/255)\n",
    "validation_generator = ImageDataGenerator(rescale=1/255) \n",
    "\n",
    "train_dataset = train_generator.flow_from_directory(batch_size=64,\n",
    "                                    directory=train_dir,\n",
    "                                    shuffle=True,\n",
    "                                    target_size=(150, 150),\n",
    "                                    class_mode='categorical')\n",
    "\n",
    "validation_dataset = validation_generator.flow_from_directory(batch_size=64,\n",
    "                                                         directory=validation_dir,\n",
    "                                                         shuffle=True,\n",
    "                                                         target_size=(150, 150),\n",
    "                                                         class_mode='categorical')"
   ]
  },
  {
   "cell_type": "code",
   "execution_count": 6,
   "id": "ff1b3804-b755-4723-9660-b736396bd69c",
   "metadata": {},
   "outputs": [],
   "source": [
    "model = tf.keras.models.Sequential([\n",
    "    tf.keras.layers.Conv2D(128, (3,3), activation='relu', input_shape=(150, 150, 3), name='conv1'),\n",
    "    tf.keras.layers.MaxPooling2D(2, 2, name='pooling1'),\n",
    "    tf.keras.layers.Conv2D(32, (3,3), activation='relu', name='conv2'),\n",
    "    tf.keras.layers.MaxPooling2D(2, 2, name='pooling2'),\n",
    "    tf.keras.layers.Conv2D(64, (3,3), activation='relu', name='conv3'),\n",
    "    tf.keras.layers.MaxPooling2D(2, 2, name='pooling3'),\n",
    "    tf.keras.layers.Flatten(name='flatten1'),\n",
    "    tf.keras.layers.Dense(1024, activation='relu', name='dense1'),\n",
    "    tf.keras.layers.Dense(6, activation='softmax', name='dense2')\n",
    "])"
   ]
  },
  {
   "cell_type": "code",
   "execution_count": 7,
   "id": "eff6156e-2d03-4370-80c5-e33796074938",
   "metadata": {},
   "outputs": [
    {
     "name": "stdout",
     "output_type": "stream",
     "text": [
      "Model: \"sequential\"\n",
      "_________________________________________________________________\n",
      " Layer (type)                Output Shape              Param #   \n",
      "=================================================================\n",
      " conv1 (Conv2D)              (None, 148, 148, 128)     3584      \n",
      "                                                                 \n",
      " pooling1 (MaxPooling2D)     (None, 74, 74, 128)       0         \n",
      "                                                                 \n",
      " conv2 (Conv2D)              (None, 72, 72, 32)        36896     \n",
      "                                                                 \n",
      " pooling2 (MaxPooling2D)     (None, 36, 36, 32)        0         \n",
      "                                                                 \n",
      " conv3 (Conv2D)              (None, 34, 34, 64)        18496     \n",
      "                                                                 \n",
      " pooling3 (MaxPooling2D)     (None, 17, 17, 64)        0         \n",
      "                                                                 \n",
      " flatten1 (Flatten)          (None, 18496)             0         \n",
      "                                                                 \n",
      " dense1 (Dense)              (None, 1024)              18940928  \n",
      "                                                                 \n",
      " dense2 (Dense)              (None, 6)                 6150      \n",
      "                                                                 \n",
      "=================================================================\n",
      "Total params: 19,006,054\n",
      "Trainable params: 19,006,054\n",
      "Non-trainable params: 0\n",
      "_________________________________________________________________\n"
     ]
    }
   ],
   "source": [
    "model.compile(optimizer=RMSprop(learning_rate=0.001), loss='categorical_crossentropy', metrics=['acc'])\n",
    "model.summary()"
   ]
  },
  {
   "cell_type": "code",
   "execution_count": null,
   "id": "61223c69-2fa2-4ee8-8f6d-ae3000e70f8e",
   "metadata": {},
   "outputs": [
    {
     "name": "stdout",
     "output_type": "stream",
     "text": [
      "Epoch 1/50\n",
      " 77/510 [===>..........................] - ETA: 16:15 - loss: 1.3964 - acc: 0.5085"
     ]
    }
   ],
   "source": [
    "early_stopping = tf.keras.callbacks.EarlyStopping(monitor='val_loss', patience=5)\n",
    "with tf.device(\"/device:CPU:0\"):\n",
    "    history = model.fit(train_dataset, validation_data=validation_dataset, epochs=50, validation_steps=5, callbacks=[early_stopping], verbose=1)"
   ]
  },
  {
   "cell_type": "code",
   "execution_count": null,
   "id": "f21f7205-6381-43b7-986f-623eb92e4a53",
   "metadata": {},
   "outputs": [],
   "source": [
    "plt.style.use('seaborn-whitegrid')\n",
    "plt.rcParams[\"figure.figsize\"] = (12, 4)\n",
    "\n",
    "fig, (ax1, ax2) = plt.subplots(1, 2)\n",
    "\n",
    "ax1.plot(history.history['acc'], label='Training Accuracy')\n",
    "ax1.plot(history.history['val_acc'], label='Validation Accuracy')\n",
    "ax1.set_xlabel('Epochs')\n",
    "ax1.set_ylabel('Accuracy')\n",
    "ax1.set_ylim(0.0, 1.1)\n",
    "ax1.legend()\n",
    "\n",
    "ax2.plot(history.history['loss'], label='Training Loss')\n",
    "ax2.plot(history.history['val_loss'], label='Validation Loss')\n",
    "ax2.set_xlabel('Epochs')\n",
    "ax2.set_ylabel('Loss')\n",
    "ax2.legend()\n",
    "\n",
    "plt.show()"
   ]
  },
  {
   "cell_type": "code",
   "execution_count": null,
   "id": "9db9e685-a447-410c-b166-2c0fe767d2fc",
   "metadata": {
    "tags": []
   },
   "outputs": [],
   "source": [
    "test_images = glob.glob(\"%s/*.jpg\" % (test_dir))\n",
    "\n",
    "cats = ['bird dropping', 'clean', 'cracked', 'dirty', 'dust', 'snow']\n",
    "true = np.zeros(4349)\n",
    "true[1066:2656] = 1\n",
    "true[2656:2732] = 2\n",
    "true[2732:2975] = 3\n",
    "true[2975:3799] = 4\n",
    "true[3799:4349] = 5\n",
    "preds = []\n",
    "\n",
    "for path in test_images:\n",
    "    img = tf.keras.preprocessing.image.load_img( path, target_size=(150, 150))\n",
    "    \n",
    "    img_array = tf.keras.preprocessing.image.img_to_array(img)\n",
    "    img_array = tf.expand_dims(img_array, 0)\n",
    "    \n",
    "    predictions = model.predict(img_array)\n",
    "    \n",
    "    score = tf.nn.softmax(predictions[0])\n",
    "    \n",
    "    class_pred = tf.math.argmax(score)\n",
    "    preds.append(class_pred.numpy())"
   ]
  },
  {
   "cell_type": "code",
   "execution_count": null,
   "id": "2f394b56-db94-4784-bf45-77d054357ef0",
   "metadata": {},
   "outputs": [],
   "source": [
    "print(true)\n",
    "print(preds)\n",
    "\n",
    "report = classification_report(true, preds, target_names=cats)\n",
    "print(report)"
   ]
  },
  {
   "cell_type": "code",
   "execution_count": null,
   "id": "204427d8-cb81-4d3c-b4c6-d876f0ef5e3f",
   "metadata": {
    "tags": []
   },
   "outputs": [],
   "source": [
    "cm = confusion_matrix(true, preds, labels=[0,1,2,3,4,5])\n",
    "\n",
    "fig, ax = plt.subplots(figsize=(8,8))\n",
    "\n",
    "ax = sns.heatmap(cm, xticklabels=cats, yticklabels=cats, annot=True, fmt=\".1f\", cmap=\"coolwarm\", cbar=False, ax=ax)\n",
    "\n",
    "ax.set_ylabel(\"True\")\n",
    "ax.set_xlabel(\"Predict\")"
   ]
  },
  {
   "cell_type": "code",
   "execution_count": null,
   "id": "cd20a7c1-417e-48e3-89c1-743fec91af06",
   "metadata": {},
   "outputs": [],
   "source": [
    "model.save(\"classifying.h5\")\n",
    "print(\"Saved model to disk\")"
   ]
  },
  {
   "cell_type": "code",
   "execution_count": null,
   "id": "1336c027-e871-463c-b055-5dba7e133ebb",
   "metadata": {
    "tags": []
   },
   "outputs": [],
   "source": [
    "real_dir = os.path.join(base_dir, 'real')\n",
    "real_images = glob.glob(\"%s/*.jpg\" % (real_dir))\n",
    "cats = ['bird dropping', 'clean', 'cracked', 'dirty', 'dust', 'snow']\n",
    "real_true = np.ones(len(real_images))\n",
    "real_preds = []\n",
    "\n",
    "for path in real_images:\n",
    "    img = tf.keras.preprocessing.image.load_img( path, target_size=(150, 150))\n",
    "    \n",
    "    img_array = tf.keras.preprocessing.image.img_to_array(img)\n",
    "    img_array = tf.expand_dims(img_array, 0)\n",
    "    \n",
    "    predictions = model.predict(img_array)\n",
    "    \n",
    "    score = tf.nn.softmax(predictions[0])\n",
    "    \n",
    "    class_pred = tf.math.argmax(score)\n",
    "    real_preds.append(class_pred.numpy())\n"
   ]
  },
  {
   "cell_type": "code",
   "execution_count": null,
   "id": "19099e6a-183d-482c-aa37-0d4ca0942915",
   "metadata": {},
   "outputs": [],
   "source": []
  },
  {
   "cell_type": "code",
   "execution_count": null,
   "id": "63a7765a-d71f-4c25-98dd-32da2ff5567d",
   "metadata": {
    "tags": []
   },
   "outputs": [],
   "source": [
    "print(real_true)\n",
    "print(real_preds)\n",
    "\n",
    "real_report = classification_report(real_true, real_preds)\n",
    "print(real_report)"
   ]
  },
  {
   "cell_type": "code",
   "execution_count": null,
   "id": "90fd2052-9110-491e-a5b6-8969506f5f17",
   "metadata": {
    "tags": []
   },
   "outputs": [],
   "source": [
    "real_cm = confusion_matrix(real_true, real_preds, labels=[0,1,2,3,4,5])\n",
    "fig, ax = plt.subplots(figsize=(5,5))\n",
    "\n",
    "ax = sns.heatmap(real_cm, xticklabels=cats, yticklabels=cats, annot=True, cmap=\"coolwarm\", cbar=False, ax=ax)\n",
    "\n",
    "ax.set_ylabel(\"True\")\n",
    "ax.set_xlabel(\"Predict\")"
   ]
  },
  {
   "cell_type": "code",
   "execution_count": null,
   "id": "9430ca98-5e63-4c02-9822-6c0c5e11d294",
   "metadata": {},
   "outputs": [],
   "source": [
    "print(tf.__version__)"
   ]
  },
  {
   "cell_type": "code",
   "execution_count": null,
   "id": "abc84377-d333-44ec-be9e-13f37df398a6",
   "metadata": {},
   "outputs": [],
   "source": [
    "import keras\n",
    "print(tf.keras.__version__)"
   ]
  },
  {
   "cell_type": "code",
   "execution_count": null,
   "id": "8d7deccb-29ed-493a-93d9-7ea72f07a8d6",
   "metadata": {},
   "outputs": [],
   "source": []
  }
 ],
 "metadata": {
  "kernelspec": {
   "display_name": "Python 3 (ipykernel)",
   "language": "python",
   "name": "python3"
  },
  "language_info": {
   "codemirror_mode": {
    "name": "ipython",
    "version": 3
   },
   "file_extension": ".py",
   "mimetype": "text/x-python",
   "name": "python",
   "nbconvert_exporter": "python",
   "pygments_lexer": "ipython3",
   "version": "3.10.6"
  }
 },
 "nbformat": 4,
 "nbformat_minor": 5
}
